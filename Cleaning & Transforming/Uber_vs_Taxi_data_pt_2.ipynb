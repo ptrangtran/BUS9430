{
  "nbformat": 4,
  "nbformat_minor": 0,
  "metadata": {
    "colab": {
      "provenance": []
    },
    "kernelspec": {
      "name": "python3",
      "display_name": "Python 3"
    },
    "language_info": {
      "name": "python"
    }
  },
  "cells": [
    {
      "cell_type": "code",
      "source": [
        "#! pip install pyarrow"
      ],
      "metadata": {
        "id": "QMtJ-6GwRiVq"
      },
      "execution_count": null,
      "outputs": []
    },
    {
      "cell_type": "code",
      "source": [
        "#! pip install requests"
      ],
      "metadata": {
        "id": "kMKAUPy-LjZC"
      },
      "execution_count": null,
      "outputs": []
    },
    {
      "cell_type": "code",
      "source": [
        "import pyarrow.parquet as pq\n",
        "import pandas as pd"
      ],
      "metadata": {
        "id": "wNOX0A0cRAWp"
      },
      "execution_count": null,
      "outputs": []
    },
    {
      "cell_type": "code",
      "source": [
        "taxi_zones = [4,12,13,45,43,48,50,68,79,87,88,90,125,100,107,113,114,140,137,141,142,143,144,148,158,161,162,163,\n",
        "              164,170,186,194,209,211,224,229,230,231,239,232,233,234,236,237,238,246,249,261]"
      ],
      "metadata": {
        "id": "dWH9d9HhC4do"
      },
      "execution_count": null,
      "outputs": []
    },
    {
      "cell_type": "markdown",
      "source": [
        "  \"https://d37ci6vzurychx.cloudfront.net/trip-data/fhvhv_tripdata_2024-01.parquet\"\n",
        "  \"https://d37ci6vzurychx.cloudfront.net/trip-data/fhvhv_tripdata_2024-02.parquet\"\n",
        "  \"https://d37ci6vzurychx.cloudfront.net/trip-data/fhvhv_tripdata_2024-03.parquet\"\n",
        "  \"https://d37ci6vzurychx.cloudfront.net/trip-data/fhvhv_tripdata_2024-04.parquet\"\n",
        "  \"https://d37ci6vzurychx.cloudfront.net/trip-data/fhvhv_tripdata_2024-05.parquet\"\n",
        "  \"https://d37ci6vzurychx.cloudfront.net/trip-data/fhvhv_tripdata_2024-06.parquet\"\n",
        "  \"https://d37ci6vzurychx.cloudfront.net/trip-data/fhvhv_tripdata_2024-07.parquet\"\n"
      ],
      "metadata": {
        "id": "ouIutF55VcIB"
      }
    },
    {
      "cell_type": "code",
      "source": [
        "# URL to get the data\n",
        "url = \"https://d37ci6vzurychx.cloudfront.net/trip-data/fhvhv_tripdata_2024-07.parquet\"\n",
        "\n",
        "# Read the Parquet file from the URL\n",
        "df_raw = pd.read_parquet(url, engine='pyarrow')"
      ],
      "metadata": {
        "id": "t3AudM2mRfe7"
      },
      "execution_count": null,
      "outputs": []
    },
    {
      "cell_type": "markdown",
      "source": [
        "• HV0003: Uber"
      ],
      "metadata": {
        "id": "FQYN_aiBVrdP"
      }
    },
    {
      "cell_type": "code",
      "source": [
        "df_raw = df_raw.dropna()"
      ],
      "metadata": {
        "id": "7Yj1LP9YOum7"
      },
      "execution_count": null,
      "outputs": []
    },
    {
      "cell_type": "code",
      "source": [
        "df_raw = df_raw[df_raw['hvfhs_license_num'] == 'HV0003']"
      ],
      "metadata": {
        "id": "sHeKUBUogBWa"
      },
      "execution_count": null,
      "outputs": []
    },
    {
      "cell_type": "code",
      "source": [
        "df_raw.info()"
      ],
      "metadata": {
        "colab": {
          "base_uri": "https://localhost:8080/"
        },
        "id": "nyDHwN0IOF_S",
        "outputId": "27cd78b2-de1d-4f65-aa69-2e1a95286ff2"
      },
      "execution_count": null,
      "outputs": [
        {
          "output_type": "stream",
          "name": "stdout",
          "text": [
            "<class 'pandas.core.frame.DataFrame'>\n",
            "Index: 14328764 entries, 0 to 19182933\n",
            "Data columns (total 24 columns):\n",
            " #   Column                Dtype         \n",
            "---  ------                -----         \n",
            " 0   hvfhs_license_num     object        \n",
            " 1   dispatching_base_num  object        \n",
            " 2   originating_base_num  object        \n",
            " 3   request_datetime      datetime64[us]\n",
            " 4   on_scene_datetime     datetime64[us]\n",
            " 5   pickup_datetime       datetime64[us]\n",
            " 6   dropoff_datetime      datetime64[us]\n",
            " 7   PULocationID          int32         \n",
            " 8   DOLocationID          int32         \n",
            " 9   trip_miles            float64       \n",
            " 10  trip_time             int64         \n",
            " 11  base_passenger_fare   float64       \n",
            " 12  tolls                 float64       \n",
            " 13  bcf                   float64       \n",
            " 14  sales_tax             float64       \n",
            " 15  congestion_surcharge  float64       \n",
            " 16  airport_fee           float64       \n",
            " 17  tips                  float64       \n",
            " 18  driver_pay            float64       \n",
            " 19  shared_request_flag   object        \n",
            " 20  shared_match_flag     object        \n",
            " 21  access_a_ride_flag    object        \n",
            " 22  wav_request_flag      object        \n",
            " 23  wav_match_flag        object        \n",
            "dtypes: datetime64[us](4), float64(9), int32(2), int64(1), object(8)\n",
            "memory usage: 2.6+ GB\n"
          ]
        }
      ]
    },
    {
      "cell_type": "code",
      "source": [
        "df_raw = df_raw[\n",
        "    df_raw['PULocationID'].isin(taxi_zones) &\n",
        "    df_raw['DOLocationID'].isin(taxi_zones)\n",
        "]"
      ],
      "metadata": {
        "id": "v5raRQ4Uil0m"
      },
      "execution_count": null,
      "outputs": []
    },
    {
      "cell_type": "code",
      "source": [
        "fees_amount = ['tolls', 'bcf', 'sales_tax', 'congestion_surcharge', 'airport_fee']\n",
        "df_raw['total_fees'] = df_raw[fees_amount].sum(axis=1)"
      ],
      "metadata": {
        "id": "1QGfqNebjGCl"
      },
      "execution_count": null,
      "outputs": []
    },
    {
      "cell_type": "code",
      "source": [
        "selected_columns = ['request_datetime', 'on_scene_datetime', 'pickup_datetime', 'dropoff_datetime', 'PULocationID',\n",
        "                    'DOLocationID', 'trip_miles', 'trip_time', 'base_passenger_fare',\n",
        "                    'total_fees', 'tips', 'driver_pay']\n",
        "new_df = df_raw[selected_columns]"
      ],
      "metadata": {
        "id": "LRHw-kAqjrQH"
      },
      "execution_count": null,
      "outputs": []
    },
    {
      "cell_type": "code",
      "source": [
        "new_df.info()"
      ],
      "metadata": {
        "colab": {
          "base_uri": "https://localhost:8080/"
        },
        "id": "WRKqtVprgvlh",
        "outputId": "f40581b4-0818-4f18-b74b-83c7ab6a2839"
      },
      "execution_count": null,
      "outputs": [
        {
          "output_type": "stream",
          "name": "stdout",
          "text": [
            "<class 'pandas.core.frame.DataFrame'>\n",
            "Index: 2947093 entries, 14 to 19182932\n",
            "Data columns (total 12 columns):\n",
            " #   Column               Dtype         \n",
            "---  ------               -----         \n",
            " 0   request_datetime     datetime64[us]\n",
            " 1   on_scene_datetime    datetime64[us]\n",
            " 2   pickup_datetime      datetime64[us]\n",
            " 3   dropoff_datetime     datetime64[us]\n",
            " 4   PULocationID         int32         \n",
            " 5   DOLocationID         int32         \n",
            " 6   trip_miles           float64       \n",
            " 7   trip_time            int64         \n",
            " 8   base_passenger_fare  float64       \n",
            " 9   total_fees           float64       \n",
            " 10  tips                 float64       \n",
            " 11  driver_pay           float64       \n",
            "dtypes: datetime64[us](4), float64(5), int32(2), int64(1)\n",
            "memory usage: 269.8 MB\n"
          ]
        }
      ]
    },
    {
      "cell_type": "code",
      "source": [
        "# Define the custom filter function for Friday 4 PM to Sunday 8 PM\n",
        "def filter_by_time(row):\n",
        "    day = row['request_datetime'].dayofweek  # 0: Monday, 6: Sunday\n",
        "    hour = row['request_datetime'].hour\n",
        "\n",
        "    # Check for Friday after 4 PM\n",
        "    if day == 4 and hour >= 16:  # Friday 4 PM onwards\n",
        "        return True\n",
        "    # Check for all day Saturday\n",
        "    elif day == 5:  # All day Saturday\n",
        "        return True\n",
        "    # Check for Sunday until 8 PM\n",
        "    elif day == 6 and hour <= 20:  # Sunday until 8 PM\n",
        "        return True\n",
        "    else:\n",
        "        return False\n",
        "\n",
        "# Apply the filter to the DataFrame\n",
        "new_df = new_df[new_df.apply(filter_by_time, axis=1)]"
      ],
      "metadata": {
        "id": "jaMfZv8km_MN"
      },
      "execution_count": null,
      "outputs": []
    },
    {
      "cell_type": "code",
      "source": [
        "new_df.head()"
      ],
      "metadata": {
        "colab": {
          "base_uri": "https://localhost:8080/",
          "height": 313
        },
        "id": "rbt7qH-anPhs",
        "outputId": "b64beaba-928d-4782-b0d6-faee179d3563"
      },
      "execution_count": null,
      "outputs": [
        {
          "output_type": "execute_result",
          "data": {
            "text/plain": [
              "           request_datetime   on_scene_datetime     pickup_datetime  \\\n",
              "2535405 2024-07-05 16:05:00 2024-07-05 15:45:21 2024-07-05 15:54:19   \n",
              "2541939 2024-07-05 16:00:00 2024-07-05 15:57:00 2024-07-05 15:58:29   \n",
              "2543004 2024-07-05 16:05:00 2024-07-05 15:53:09 2024-07-05 15:54:47   \n",
              "2546193 2024-07-05 16:00:00 2024-07-05 15:54:07 2024-07-05 15:54:15   \n",
              "2551645 2024-07-05 16:26:58 2024-07-05 16:28:23 2024-07-05 16:29:19   \n",
              "\n",
              "           dropoff_datetime  PULocationID  DOLocationID  trip_miles  \\\n",
              "2535405 2024-07-05 16:11:22           162            68        1.64   \n",
              "2541939 2024-07-05 16:20:24           142             4        4.99   \n",
              "2543004 2024-07-05 16:15:43           230           114        3.14   \n",
              "2546193 2024-07-05 16:11:01           100           231        3.41   \n",
              "2551645 2024-07-05 16:51:29           229            48        2.17   \n",
              "\n",
              "         trip_time  base_passenger_fare  total_fees   tips  driver_pay  \n",
              "2535405       1023                38.50        7.23   0.00       30.39  \n",
              "2541939       1315                46.66        8.17  10.96       38.46  \n",
              "2543004       1256                33.65        6.67   8.06       27.00  \n",
              "2546193       1006                47.40        8.26  11.13       35.56  \n",
              "2551645       1330                26.20        5.80   6.40       18.51  "
            ],
            "text/html": [
              "\n",
              "  <div id=\"df-71240fc5-87c0-4c2a-8a07-f9127d78ce63\" class=\"colab-df-container\">\n",
              "    <div>\n",
              "<style scoped>\n",
              "    .dataframe tbody tr th:only-of-type {\n",
              "        vertical-align: middle;\n",
              "    }\n",
              "\n",
              "    .dataframe tbody tr th {\n",
              "        vertical-align: top;\n",
              "    }\n",
              "\n",
              "    .dataframe thead th {\n",
              "        text-align: right;\n",
              "    }\n",
              "</style>\n",
              "<table border=\"1\" class=\"dataframe\">\n",
              "  <thead>\n",
              "    <tr style=\"text-align: right;\">\n",
              "      <th></th>\n",
              "      <th>request_datetime</th>\n",
              "      <th>on_scene_datetime</th>\n",
              "      <th>pickup_datetime</th>\n",
              "      <th>dropoff_datetime</th>\n",
              "      <th>PULocationID</th>\n",
              "      <th>DOLocationID</th>\n",
              "      <th>trip_miles</th>\n",
              "      <th>trip_time</th>\n",
              "      <th>base_passenger_fare</th>\n",
              "      <th>total_fees</th>\n",
              "      <th>tips</th>\n",
              "      <th>driver_pay</th>\n",
              "    </tr>\n",
              "  </thead>\n",
              "  <tbody>\n",
              "    <tr>\n",
              "      <th>2535405</th>\n",
              "      <td>2024-07-05 16:05:00</td>\n",
              "      <td>2024-07-05 15:45:21</td>\n",
              "      <td>2024-07-05 15:54:19</td>\n",
              "      <td>2024-07-05 16:11:22</td>\n",
              "      <td>162</td>\n",
              "      <td>68</td>\n",
              "      <td>1.64</td>\n",
              "      <td>1023</td>\n",
              "      <td>38.50</td>\n",
              "      <td>7.23</td>\n",
              "      <td>0.00</td>\n",
              "      <td>30.39</td>\n",
              "    </tr>\n",
              "    <tr>\n",
              "      <th>2541939</th>\n",
              "      <td>2024-07-05 16:00:00</td>\n",
              "      <td>2024-07-05 15:57:00</td>\n",
              "      <td>2024-07-05 15:58:29</td>\n",
              "      <td>2024-07-05 16:20:24</td>\n",
              "      <td>142</td>\n",
              "      <td>4</td>\n",
              "      <td>4.99</td>\n",
              "      <td>1315</td>\n",
              "      <td>46.66</td>\n",
              "      <td>8.17</td>\n",
              "      <td>10.96</td>\n",
              "      <td>38.46</td>\n",
              "    </tr>\n",
              "    <tr>\n",
              "      <th>2543004</th>\n",
              "      <td>2024-07-05 16:05:00</td>\n",
              "      <td>2024-07-05 15:53:09</td>\n",
              "      <td>2024-07-05 15:54:47</td>\n",
              "      <td>2024-07-05 16:15:43</td>\n",
              "      <td>230</td>\n",
              "      <td>114</td>\n",
              "      <td>3.14</td>\n",
              "      <td>1256</td>\n",
              "      <td>33.65</td>\n",
              "      <td>6.67</td>\n",
              "      <td>8.06</td>\n",
              "      <td>27.00</td>\n",
              "    </tr>\n",
              "    <tr>\n",
              "      <th>2546193</th>\n",
              "      <td>2024-07-05 16:00:00</td>\n",
              "      <td>2024-07-05 15:54:07</td>\n",
              "      <td>2024-07-05 15:54:15</td>\n",
              "      <td>2024-07-05 16:11:01</td>\n",
              "      <td>100</td>\n",
              "      <td>231</td>\n",
              "      <td>3.41</td>\n",
              "      <td>1006</td>\n",
              "      <td>47.40</td>\n",
              "      <td>8.26</td>\n",
              "      <td>11.13</td>\n",
              "      <td>35.56</td>\n",
              "    </tr>\n",
              "    <tr>\n",
              "      <th>2551645</th>\n",
              "      <td>2024-07-05 16:26:58</td>\n",
              "      <td>2024-07-05 16:28:23</td>\n",
              "      <td>2024-07-05 16:29:19</td>\n",
              "      <td>2024-07-05 16:51:29</td>\n",
              "      <td>229</td>\n",
              "      <td>48</td>\n",
              "      <td>2.17</td>\n",
              "      <td>1330</td>\n",
              "      <td>26.20</td>\n",
              "      <td>5.80</td>\n",
              "      <td>6.40</td>\n",
              "      <td>18.51</td>\n",
              "    </tr>\n",
              "  </tbody>\n",
              "</table>\n",
              "</div>\n",
              "    <div class=\"colab-df-buttons\">\n",
              "\n",
              "  <div class=\"colab-df-container\">\n",
              "    <button class=\"colab-df-convert\" onclick=\"convertToInteractive('df-71240fc5-87c0-4c2a-8a07-f9127d78ce63')\"\n",
              "            title=\"Convert this dataframe to an interactive table.\"\n",
              "            style=\"display:none;\">\n",
              "\n",
              "  <svg xmlns=\"http://www.w3.org/2000/svg\" height=\"24px\" viewBox=\"0 -960 960 960\">\n",
              "    <path d=\"M120-120v-720h720v720H120Zm60-500h600v-160H180v160Zm220 220h160v-160H400v160Zm0 220h160v-160H400v160ZM180-400h160v-160H180v160Zm440 0h160v-160H620v160ZM180-180h160v-160H180v160Zm440 0h160v-160H620v160Z\"/>\n",
              "  </svg>\n",
              "    </button>\n",
              "\n",
              "  <style>\n",
              "    .colab-df-container {\n",
              "      display:flex;\n",
              "      gap: 12px;\n",
              "    }\n",
              "\n",
              "    .colab-df-convert {\n",
              "      background-color: #E8F0FE;\n",
              "      border: none;\n",
              "      border-radius: 50%;\n",
              "      cursor: pointer;\n",
              "      display: none;\n",
              "      fill: #1967D2;\n",
              "      height: 32px;\n",
              "      padding: 0 0 0 0;\n",
              "      width: 32px;\n",
              "    }\n",
              "\n",
              "    .colab-df-convert:hover {\n",
              "      background-color: #E2EBFA;\n",
              "      box-shadow: 0px 1px 2px rgba(60, 64, 67, 0.3), 0px 1px 3px 1px rgba(60, 64, 67, 0.15);\n",
              "      fill: #174EA6;\n",
              "    }\n",
              "\n",
              "    .colab-df-buttons div {\n",
              "      margin-bottom: 4px;\n",
              "    }\n",
              "\n",
              "    [theme=dark] .colab-df-convert {\n",
              "      background-color: #3B4455;\n",
              "      fill: #D2E3FC;\n",
              "    }\n",
              "\n",
              "    [theme=dark] .colab-df-convert:hover {\n",
              "      background-color: #434B5C;\n",
              "      box-shadow: 0px 1px 3px 1px rgba(0, 0, 0, 0.15);\n",
              "      filter: drop-shadow(0px 1px 2px rgba(0, 0, 0, 0.3));\n",
              "      fill: #FFFFFF;\n",
              "    }\n",
              "  </style>\n",
              "\n",
              "    <script>\n",
              "      const buttonEl =\n",
              "        document.querySelector('#df-71240fc5-87c0-4c2a-8a07-f9127d78ce63 button.colab-df-convert');\n",
              "      buttonEl.style.display =\n",
              "        google.colab.kernel.accessAllowed ? 'block' : 'none';\n",
              "\n",
              "      async function convertToInteractive(key) {\n",
              "        const element = document.querySelector('#df-71240fc5-87c0-4c2a-8a07-f9127d78ce63');\n",
              "        const dataTable =\n",
              "          await google.colab.kernel.invokeFunction('convertToInteractive',\n",
              "                                                    [key], {});\n",
              "        if (!dataTable) return;\n",
              "\n",
              "        const docLinkHtml = 'Like what you see? Visit the ' +\n",
              "          '<a target=\"_blank\" href=https://colab.research.google.com/notebooks/data_table.ipynb>data table notebook</a>'\n",
              "          + ' to learn more about interactive tables.';\n",
              "        element.innerHTML = '';\n",
              "        dataTable['output_type'] = 'display_data';\n",
              "        await google.colab.output.renderOutput(dataTable, element);\n",
              "        const docLink = document.createElement('div');\n",
              "        docLink.innerHTML = docLinkHtml;\n",
              "        element.appendChild(docLink);\n",
              "      }\n",
              "    </script>\n",
              "  </div>\n",
              "\n",
              "\n",
              "<div id=\"df-c2388027-61df-4230-a707-69213f2e084f\">\n",
              "  <button class=\"colab-df-quickchart\" onclick=\"quickchart('df-c2388027-61df-4230-a707-69213f2e084f')\"\n",
              "            title=\"Suggest charts\"\n",
              "            style=\"display:none;\">\n",
              "\n",
              "<svg xmlns=\"http://www.w3.org/2000/svg\" height=\"24px\"viewBox=\"0 0 24 24\"\n",
              "     width=\"24px\">\n",
              "    <g>\n",
              "        <path d=\"M19 3H5c-1.1 0-2 .9-2 2v14c0 1.1.9 2 2 2h14c1.1 0 2-.9 2-2V5c0-1.1-.9-2-2-2zM9 17H7v-7h2v7zm4 0h-2V7h2v10zm4 0h-2v-4h2v4z\"/>\n",
              "    </g>\n",
              "</svg>\n",
              "  </button>\n",
              "\n",
              "<style>\n",
              "  .colab-df-quickchart {\n",
              "      --bg-color: #E8F0FE;\n",
              "      --fill-color: #1967D2;\n",
              "      --hover-bg-color: #E2EBFA;\n",
              "      --hover-fill-color: #174EA6;\n",
              "      --disabled-fill-color: #AAA;\n",
              "      --disabled-bg-color: #DDD;\n",
              "  }\n",
              "\n",
              "  [theme=dark] .colab-df-quickchart {\n",
              "      --bg-color: #3B4455;\n",
              "      --fill-color: #D2E3FC;\n",
              "      --hover-bg-color: #434B5C;\n",
              "      --hover-fill-color: #FFFFFF;\n",
              "      --disabled-bg-color: #3B4455;\n",
              "      --disabled-fill-color: #666;\n",
              "  }\n",
              "\n",
              "  .colab-df-quickchart {\n",
              "    background-color: var(--bg-color);\n",
              "    border: none;\n",
              "    border-radius: 50%;\n",
              "    cursor: pointer;\n",
              "    display: none;\n",
              "    fill: var(--fill-color);\n",
              "    height: 32px;\n",
              "    padding: 0;\n",
              "    width: 32px;\n",
              "  }\n",
              "\n",
              "  .colab-df-quickchart:hover {\n",
              "    background-color: var(--hover-bg-color);\n",
              "    box-shadow: 0 1px 2px rgba(60, 64, 67, 0.3), 0 1px 3px 1px rgba(60, 64, 67, 0.15);\n",
              "    fill: var(--button-hover-fill-color);\n",
              "  }\n",
              "\n",
              "  .colab-df-quickchart-complete:disabled,\n",
              "  .colab-df-quickchart-complete:disabled:hover {\n",
              "    background-color: var(--disabled-bg-color);\n",
              "    fill: var(--disabled-fill-color);\n",
              "    box-shadow: none;\n",
              "  }\n",
              "\n",
              "  .colab-df-spinner {\n",
              "    border: 2px solid var(--fill-color);\n",
              "    border-color: transparent;\n",
              "    border-bottom-color: var(--fill-color);\n",
              "    animation:\n",
              "      spin 1s steps(1) infinite;\n",
              "  }\n",
              "\n",
              "  @keyframes spin {\n",
              "    0% {\n",
              "      border-color: transparent;\n",
              "      border-bottom-color: var(--fill-color);\n",
              "      border-left-color: var(--fill-color);\n",
              "    }\n",
              "    20% {\n",
              "      border-color: transparent;\n",
              "      border-left-color: var(--fill-color);\n",
              "      border-top-color: var(--fill-color);\n",
              "    }\n",
              "    30% {\n",
              "      border-color: transparent;\n",
              "      border-left-color: var(--fill-color);\n",
              "      border-top-color: var(--fill-color);\n",
              "      border-right-color: var(--fill-color);\n",
              "    }\n",
              "    40% {\n",
              "      border-color: transparent;\n",
              "      border-right-color: var(--fill-color);\n",
              "      border-top-color: var(--fill-color);\n",
              "    }\n",
              "    60% {\n",
              "      border-color: transparent;\n",
              "      border-right-color: var(--fill-color);\n",
              "    }\n",
              "    80% {\n",
              "      border-color: transparent;\n",
              "      border-right-color: var(--fill-color);\n",
              "      border-bottom-color: var(--fill-color);\n",
              "    }\n",
              "    90% {\n",
              "      border-color: transparent;\n",
              "      border-bottom-color: var(--fill-color);\n",
              "    }\n",
              "  }\n",
              "</style>\n",
              "\n",
              "  <script>\n",
              "    async function quickchart(key) {\n",
              "      const quickchartButtonEl =\n",
              "        document.querySelector('#' + key + ' button');\n",
              "      quickchartButtonEl.disabled = true;  // To prevent multiple clicks.\n",
              "      quickchartButtonEl.classList.add('colab-df-spinner');\n",
              "      try {\n",
              "        const charts = await google.colab.kernel.invokeFunction(\n",
              "            'suggestCharts', [key], {});\n",
              "      } catch (error) {\n",
              "        console.error('Error during call to suggestCharts:', error);\n",
              "      }\n",
              "      quickchartButtonEl.classList.remove('colab-df-spinner');\n",
              "      quickchartButtonEl.classList.add('colab-df-quickchart-complete');\n",
              "    }\n",
              "    (() => {\n",
              "      let quickchartButtonEl =\n",
              "        document.querySelector('#df-c2388027-61df-4230-a707-69213f2e084f button');\n",
              "      quickchartButtonEl.style.display =\n",
              "        google.colab.kernel.accessAllowed ? 'block' : 'none';\n",
              "    })();\n",
              "  </script>\n",
              "</div>\n",
              "\n",
              "    </div>\n",
              "  </div>\n"
            ],
            "application/vnd.google.colaboratory.intrinsic+json": {
              "type": "dataframe",
              "variable_name": "new_df"
            }
          },
          "metadata": {},
          "execution_count": 14
        }
      ]
    },
    {
      "cell_type": "code",
      "source": [
        "new_df['date'] = pd.to_datetime(new_df['request_datetime']).dt.date\n",
        "\n",
        "# Create separate time columns for all four datetime columns\n",
        "new_df['request_time'] = pd.to_datetime(new_df['request_datetime']).dt.time\n",
        "new_df['on_scene_time'] = pd.to_datetime(new_df['on_scene_datetime']).dt.time\n",
        "new_df['pickup_time'] = pd.to_datetime(new_df['pickup_datetime']).dt.time\n",
        "new_df['dropoff_time'] = pd.to_datetime(new_df['dropoff_datetime']).dt.time\n",
        "\n",
        "\n",
        "# Drop the original datetime columns if needed\n",
        "new_df = new_df.drop(columns=['request_datetime', 'on_scene_datetime', 'pickup_datetime', 'dropoff_datetime'])"
      ],
      "metadata": {
        "id": "LHdZu0lTgvnu"
      },
      "execution_count": null,
      "outputs": []
    },
    {
      "cell_type": "code",
      "source": [
        "new_df['trip_time'] = new_df['trip_time'] / 60\n"
      ],
      "metadata": {
        "id": "q4LyA0lTk9kf"
      },
      "execution_count": null,
      "outputs": []
    },
    {
      "cell_type": "code",
      "source": [
        "new_df.head()"
      ],
      "metadata": {
        "colab": {
          "base_uri": "https://localhost:8080/",
          "height": 313
        },
        "id": "p9Zq-UpIgvqW",
        "outputId": "65e1c3d7-00d2-4cd9-8ee8-4977189cc2ce"
      },
      "execution_count": null,
      "outputs": [
        {
          "output_type": "execute_result",
          "data": {
            "text/plain": [
              "         PULocationID  DOLocationID  trip_miles  trip_time  \\\n",
              "2535405           162            68        1.64  17.050000   \n",
              "2541939           142             4        4.99  21.916667   \n",
              "2543004           230           114        3.14  20.933333   \n",
              "2546193           100           231        3.41  16.766667   \n",
              "2551645           229            48        2.17  22.166667   \n",
              "\n",
              "         base_passenger_fare  total_fees   tips  driver_pay        date  \\\n",
              "2535405                38.50        7.23   0.00       30.39  2024-07-05   \n",
              "2541939                46.66        8.17  10.96       38.46  2024-07-05   \n",
              "2543004                33.65        6.67   8.06       27.00  2024-07-05   \n",
              "2546193                47.40        8.26  11.13       35.56  2024-07-05   \n",
              "2551645                26.20        5.80   6.40       18.51  2024-07-05   \n",
              "\n",
              "        request_time on_scene_time pickup_time dropoff_time  \n",
              "2535405     16:05:00      15:45:21    15:54:19     16:11:22  \n",
              "2541939     16:00:00      15:57:00    15:58:29     16:20:24  \n",
              "2543004     16:05:00      15:53:09    15:54:47     16:15:43  \n",
              "2546193     16:00:00      15:54:07    15:54:15     16:11:01  \n",
              "2551645     16:26:58      16:28:23    16:29:19     16:51:29  "
            ],
            "text/html": [
              "\n",
              "  <div id=\"df-89bff6cc-7b5f-4566-b19b-e1de38d6393f\" class=\"colab-df-container\">\n",
              "    <div>\n",
              "<style scoped>\n",
              "    .dataframe tbody tr th:only-of-type {\n",
              "        vertical-align: middle;\n",
              "    }\n",
              "\n",
              "    .dataframe tbody tr th {\n",
              "        vertical-align: top;\n",
              "    }\n",
              "\n",
              "    .dataframe thead th {\n",
              "        text-align: right;\n",
              "    }\n",
              "</style>\n",
              "<table border=\"1\" class=\"dataframe\">\n",
              "  <thead>\n",
              "    <tr style=\"text-align: right;\">\n",
              "      <th></th>\n",
              "      <th>PULocationID</th>\n",
              "      <th>DOLocationID</th>\n",
              "      <th>trip_miles</th>\n",
              "      <th>trip_time</th>\n",
              "      <th>base_passenger_fare</th>\n",
              "      <th>total_fees</th>\n",
              "      <th>tips</th>\n",
              "      <th>driver_pay</th>\n",
              "      <th>date</th>\n",
              "      <th>request_time</th>\n",
              "      <th>on_scene_time</th>\n",
              "      <th>pickup_time</th>\n",
              "      <th>dropoff_time</th>\n",
              "    </tr>\n",
              "  </thead>\n",
              "  <tbody>\n",
              "    <tr>\n",
              "      <th>2535405</th>\n",
              "      <td>162</td>\n",
              "      <td>68</td>\n",
              "      <td>1.64</td>\n",
              "      <td>17.050000</td>\n",
              "      <td>38.50</td>\n",
              "      <td>7.23</td>\n",
              "      <td>0.00</td>\n",
              "      <td>30.39</td>\n",
              "      <td>2024-07-05</td>\n",
              "      <td>16:05:00</td>\n",
              "      <td>15:45:21</td>\n",
              "      <td>15:54:19</td>\n",
              "      <td>16:11:22</td>\n",
              "    </tr>\n",
              "    <tr>\n",
              "      <th>2541939</th>\n",
              "      <td>142</td>\n",
              "      <td>4</td>\n",
              "      <td>4.99</td>\n",
              "      <td>21.916667</td>\n",
              "      <td>46.66</td>\n",
              "      <td>8.17</td>\n",
              "      <td>10.96</td>\n",
              "      <td>38.46</td>\n",
              "      <td>2024-07-05</td>\n",
              "      <td>16:00:00</td>\n",
              "      <td>15:57:00</td>\n",
              "      <td>15:58:29</td>\n",
              "      <td>16:20:24</td>\n",
              "    </tr>\n",
              "    <tr>\n",
              "      <th>2543004</th>\n",
              "      <td>230</td>\n",
              "      <td>114</td>\n",
              "      <td>3.14</td>\n",
              "      <td>20.933333</td>\n",
              "      <td>33.65</td>\n",
              "      <td>6.67</td>\n",
              "      <td>8.06</td>\n",
              "      <td>27.00</td>\n",
              "      <td>2024-07-05</td>\n",
              "      <td>16:05:00</td>\n",
              "      <td>15:53:09</td>\n",
              "      <td>15:54:47</td>\n",
              "      <td>16:15:43</td>\n",
              "    </tr>\n",
              "    <tr>\n",
              "      <th>2546193</th>\n",
              "      <td>100</td>\n",
              "      <td>231</td>\n",
              "      <td>3.41</td>\n",
              "      <td>16.766667</td>\n",
              "      <td>47.40</td>\n",
              "      <td>8.26</td>\n",
              "      <td>11.13</td>\n",
              "      <td>35.56</td>\n",
              "      <td>2024-07-05</td>\n",
              "      <td>16:00:00</td>\n",
              "      <td>15:54:07</td>\n",
              "      <td>15:54:15</td>\n",
              "      <td>16:11:01</td>\n",
              "    </tr>\n",
              "    <tr>\n",
              "      <th>2551645</th>\n",
              "      <td>229</td>\n",
              "      <td>48</td>\n",
              "      <td>2.17</td>\n",
              "      <td>22.166667</td>\n",
              "      <td>26.20</td>\n",
              "      <td>5.80</td>\n",
              "      <td>6.40</td>\n",
              "      <td>18.51</td>\n",
              "      <td>2024-07-05</td>\n",
              "      <td>16:26:58</td>\n",
              "      <td>16:28:23</td>\n",
              "      <td>16:29:19</td>\n",
              "      <td>16:51:29</td>\n",
              "    </tr>\n",
              "  </tbody>\n",
              "</table>\n",
              "</div>\n",
              "    <div class=\"colab-df-buttons\">\n",
              "\n",
              "  <div class=\"colab-df-container\">\n",
              "    <button class=\"colab-df-convert\" onclick=\"convertToInteractive('df-89bff6cc-7b5f-4566-b19b-e1de38d6393f')\"\n",
              "            title=\"Convert this dataframe to an interactive table.\"\n",
              "            style=\"display:none;\">\n",
              "\n",
              "  <svg xmlns=\"http://www.w3.org/2000/svg\" height=\"24px\" viewBox=\"0 -960 960 960\">\n",
              "    <path d=\"M120-120v-720h720v720H120Zm60-500h600v-160H180v160Zm220 220h160v-160H400v160Zm0 220h160v-160H400v160ZM180-400h160v-160H180v160Zm440 0h160v-160H620v160ZM180-180h160v-160H180v160Zm440 0h160v-160H620v160Z\"/>\n",
              "  </svg>\n",
              "    </button>\n",
              "\n",
              "  <style>\n",
              "    .colab-df-container {\n",
              "      display:flex;\n",
              "      gap: 12px;\n",
              "    }\n",
              "\n",
              "    .colab-df-convert {\n",
              "      background-color: #E8F0FE;\n",
              "      border: none;\n",
              "      border-radius: 50%;\n",
              "      cursor: pointer;\n",
              "      display: none;\n",
              "      fill: #1967D2;\n",
              "      height: 32px;\n",
              "      padding: 0 0 0 0;\n",
              "      width: 32px;\n",
              "    }\n",
              "\n",
              "    .colab-df-convert:hover {\n",
              "      background-color: #E2EBFA;\n",
              "      box-shadow: 0px 1px 2px rgba(60, 64, 67, 0.3), 0px 1px 3px 1px rgba(60, 64, 67, 0.15);\n",
              "      fill: #174EA6;\n",
              "    }\n",
              "\n",
              "    .colab-df-buttons div {\n",
              "      margin-bottom: 4px;\n",
              "    }\n",
              "\n",
              "    [theme=dark] .colab-df-convert {\n",
              "      background-color: #3B4455;\n",
              "      fill: #D2E3FC;\n",
              "    }\n",
              "\n",
              "    [theme=dark] .colab-df-convert:hover {\n",
              "      background-color: #434B5C;\n",
              "      box-shadow: 0px 1px 3px 1px rgba(0, 0, 0, 0.15);\n",
              "      filter: drop-shadow(0px 1px 2px rgba(0, 0, 0, 0.3));\n",
              "      fill: #FFFFFF;\n",
              "    }\n",
              "  </style>\n",
              "\n",
              "    <script>\n",
              "      const buttonEl =\n",
              "        document.querySelector('#df-89bff6cc-7b5f-4566-b19b-e1de38d6393f button.colab-df-convert');\n",
              "      buttonEl.style.display =\n",
              "        google.colab.kernel.accessAllowed ? 'block' : 'none';\n",
              "\n",
              "      async function convertToInteractive(key) {\n",
              "        const element = document.querySelector('#df-89bff6cc-7b5f-4566-b19b-e1de38d6393f');\n",
              "        const dataTable =\n",
              "          await google.colab.kernel.invokeFunction('convertToInteractive',\n",
              "                                                    [key], {});\n",
              "        if (!dataTable) return;\n",
              "\n",
              "        const docLinkHtml = 'Like what you see? Visit the ' +\n",
              "          '<a target=\"_blank\" href=https://colab.research.google.com/notebooks/data_table.ipynb>data table notebook</a>'\n",
              "          + ' to learn more about interactive tables.';\n",
              "        element.innerHTML = '';\n",
              "        dataTable['output_type'] = 'display_data';\n",
              "        await google.colab.output.renderOutput(dataTable, element);\n",
              "        const docLink = document.createElement('div');\n",
              "        docLink.innerHTML = docLinkHtml;\n",
              "        element.appendChild(docLink);\n",
              "      }\n",
              "    </script>\n",
              "  </div>\n",
              "\n",
              "\n",
              "<div id=\"df-392dcfa2-78da-44b9-a6ab-8caf0936d25d\">\n",
              "  <button class=\"colab-df-quickchart\" onclick=\"quickchart('df-392dcfa2-78da-44b9-a6ab-8caf0936d25d')\"\n",
              "            title=\"Suggest charts\"\n",
              "            style=\"display:none;\">\n",
              "\n",
              "<svg xmlns=\"http://www.w3.org/2000/svg\" height=\"24px\"viewBox=\"0 0 24 24\"\n",
              "     width=\"24px\">\n",
              "    <g>\n",
              "        <path d=\"M19 3H5c-1.1 0-2 .9-2 2v14c0 1.1.9 2 2 2h14c1.1 0 2-.9 2-2V5c0-1.1-.9-2-2-2zM9 17H7v-7h2v7zm4 0h-2V7h2v10zm4 0h-2v-4h2v4z\"/>\n",
              "    </g>\n",
              "</svg>\n",
              "  </button>\n",
              "\n",
              "<style>\n",
              "  .colab-df-quickchart {\n",
              "      --bg-color: #E8F0FE;\n",
              "      --fill-color: #1967D2;\n",
              "      --hover-bg-color: #E2EBFA;\n",
              "      --hover-fill-color: #174EA6;\n",
              "      --disabled-fill-color: #AAA;\n",
              "      --disabled-bg-color: #DDD;\n",
              "  }\n",
              "\n",
              "  [theme=dark] .colab-df-quickchart {\n",
              "      --bg-color: #3B4455;\n",
              "      --fill-color: #D2E3FC;\n",
              "      --hover-bg-color: #434B5C;\n",
              "      --hover-fill-color: #FFFFFF;\n",
              "      --disabled-bg-color: #3B4455;\n",
              "      --disabled-fill-color: #666;\n",
              "  }\n",
              "\n",
              "  .colab-df-quickchart {\n",
              "    background-color: var(--bg-color);\n",
              "    border: none;\n",
              "    border-radius: 50%;\n",
              "    cursor: pointer;\n",
              "    display: none;\n",
              "    fill: var(--fill-color);\n",
              "    height: 32px;\n",
              "    padding: 0;\n",
              "    width: 32px;\n",
              "  }\n",
              "\n",
              "  .colab-df-quickchart:hover {\n",
              "    background-color: var(--hover-bg-color);\n",
              "    box-shadow: 0 1px 2px rgba(60, 64, 67, 0.3), 0 1px 3px 1px rgba(60, 64, 67, 0.15);\n",
              "    fill: var(--button-hover-fill-color);\n",
              "  }\n",
              "\n",
              "  .colab-df-quickchart-complete:disabled,\n",
              "  .colab-df-quickchart-complete:disabled:hover {\n",
              "    background-color: var(--disabled-bg-color);\n",
              "    fill: var(--disabled-fill-color);\n",
              "    box-shadow: none;\n",
              "  }\n",
              "\n",
              "  .colab-df-spinner {\n",
              "    border: 2px solid var(--fill-color);\n",
              "    border-color: transparent;\n",
              "    border-bottom-color: var(--fill-color);\n",
              "    animation:\n",
              "      spin 1s steps(1) infinite;\n",
              "  }\n",
              "\n",
              "  @keyframes spin {\n",
              "    0% {\n",
              "      border-color: transparent;\n",
              "      border-bottom-color: var(--fill-color);\n",
              "      border-left-color: var(--fill-color);\n",
              "    }\n",
              "    20% {\n",
              "      border-color: transparent;\n",
              "      border-left-color: var(--fill-color);\n",
              "      border-top-color: var(--fill-color);\n",
              "    }\n",
              "    30% {\n",
              "      border-color: transparent;\n",
              "      border-left-color: var(--fill-color);\n",
              "      border-top-color: var(--fill-color);\n",
              "      border-right-color: var(--fill-color);\n",
              "    }\n",
              "    40% {\n",
              "      border-color: transparent;\n",
              "      border-right-color: var(--fill-color);\n",
              "      border-top-color: var(--fill-color);\n",
              "    }\n",
              "    60% {\n",
              "      border-color: transparent;\n",
              "      border-right-color: var(--fill-color);\n",
              "    }\n",
              "    80% {\n",
              "      border-color: transparent;\n",
              "      border-right-color: var(--fill-color);\n",
              "      border-bottom-color: var(--fill-color);\n",
              "    }\n",
              "    90% {\n",
              "      border-color: transparent;\n",
              "      border-bottom-color: var(--fill-color);\n",
              "    }\n",
              "  }\n",
              "</style>\n",
              "\n",
              "  <script>\n",
              "    async function quickchart(key) {\n",
              "      const quickchartButtonEl =\n",
              "        document.querySelector('#' + key + ' button');\n",
              "      quickchartButtonEl.disabled = true;  // To prevent multiple clicks.\n",
              "      quickchartButtonEl.classList.add('colab-df-spinner');\n",
              "      try {\n",
              "        const charts = await google.colab.kernel.invokeFunction(\n",
              "            'suggestCharts', [key], {});\n",
              "      } catch (error) {\n",
              "        console.error('Error during call to suggestCharts:', error);\n",
              "      }\n",
              "      quickchartButtonEl.classList.remove('colab-df-spinner');\n",
              "      quickchartButtonEl.classList.add('colab-df-quickchart-complete');\n",
              "    }\n",
              "    (() => {\n",
              "      let quickchartButtonEl =\n",
              "        document.querySelector('#df-392dcfa2-78da-44b9-a6ab-8caf0936d25d button');\n",
              "      quickchartButtonEl.style.display =\n",
              "        google.colab.kernel.accessAllowed ? 'block' : 'none';\n",
              "    })();\n",
              "  </script>\n",
              "</div>\n",
              "\n",
              "    </div>\n",
              "  </div>\n"
            ],
            "application/vnd.google.colaboratory.intrinsic+json": {
              "type": "dataframe",
              "variable_name": "new_df"
            }
          },
          "metadata": {},
          "execution_count": 17
        }
      ]
    },
    {
      "cell_type": "code",
      "source": [
        "f_df = new_df.reset_index()"
      ],
      "metadata": {
        "id": "GRaKdZhXR_10"
      },
      "execution_count": null,
      "outputs": []
    },
    {
      "cell_type": "code",
      "source": [
        "f_df= f_df.drop(columns=['index'])"
      ],
      "metadata": {
        "id": "iPY1j47gIHuI"
      },
      "execution_count": null,
      "outputs": []
    },
    {
      "cell_type": "code",
      "source": [
        "f_df.info()"
      ],
      "metadata": {
        "id": "hT8PRyxpSN97",
        "colab": {
          "base_uri": "https://localhost:8080/"
        },
        "outputId": "4166aea3-c3ff-4ebf-8c8f-2be54a831576"
      },
      "execution_count": null,
      "outputs": [
        {
          "output_type": "stream",
          "name": "stdout",
          "text": [
            "<class 'pandas.core.frame.DataFrame'>\n",
            "RangeIndex: 915761 entries, 0 to 915760\n",
            "Data columns (total 13 columns):\n",
            " #   Column               Non-Null Count   Dtype  \n",
            "---  ------               --------------   -----  \n",
            " 0   PULocationID         915761 non-null  int32  \n",
            " 1   DOLocationID         915761 non-null  int32  \n",
            " 2   trip_miles           915761 non-null  float64\n",
            " 3   trip_time            915761 non-null  float64\n",
            " 4   base_passenger_fare  915761 non-null  float64\n",
            " 5   total_fees           915761 non-null  float64\n",
            " 6   tips                 915761 non-null  float64\n",
            " 7   driver_pay           915761 non-null  float64\n",
            " 8   date                 915761 non-null  object \n",
            " 9   request_time         915761 non-null  object \n",
            " 10  on_scene_time        915761 non-null  object \n",
            " 11  pickup_time          915761 non-null  object \n",
            " 12  dropoff_time         915761 non-null  object \n",
            "dtypes: float64(6), int32(2), object(5)\n",
            "memory usage: 83.8+ MB\n"
          ]
        }
      ]
    },
    {
      "cell_type": "code",
      "source": [
        "f_df.to_csv('uber_data7.csv', index=False)"
      ],
      "metadata": {
        "id": "hCNcKnrESCPa"
      },
      "execution_count": null,
      "outputs": []
    },
    {
      "cell_type": "code",
      "source": [],
      "metadata": {
        "id": "f27VW4XdNIpq"
      },
      "execution_count": null,
      "outputs": []
    },
    {
      "cell_type": "code",
      "source": [],
      "metadata": {
        "id": "89ON2Z75IcU8"
      },
      "execution_count": null,
      "outputs": []
    },
    {
      "cell_type": "code",
      "source": [
        "# Read both CSV files into pandas DataFrames\n",
        "df2 = pd.read_csv('/content/uber_data2.csv')\n",
        "df3 = pd.read_csv('/content/uber_data3.csv')\n",
        "df4 = pd.read_csv('/content/uber_data4.csv')\n",
        "df5 = pd.read_csv('/content/uber_data5.csv')\n",
        "df6 = pd.read_csv('/content/uber_data6.csv')\n",
        "df7 = pd.read_csv('/content/uber_data7.csv')\n",
        "\n",
        "# Append df2 to df1\n",
        "uber_df = pd.concat([df2, df3, df4, df5, df6, df7], ignore_index=True)\n"
      ],
      "metadata": {
        "id": "K6vY82IMVmQS",
        "colab": {
          "base_uri": "https://localhost:8080/"
        },
        "outputId": "e9b4c05d-607f-4665-b104-d33de76e4cef"
      },
      "execution_count": null,
      "outputs": [
        {
          "output_type": "error",
          "ename": "FileNotFoundError",
          "evalue": "[Errno 2] No such file or directory: '/content/uber_data2.csv'",
          "traceback": [
            "\u001b[0;31m---------------------------------------------------------------------------\u001b[0m",
            "\u001b[0;31mFileNotFoundError\u001b[0m                         Traceback (most recent call last)",
            "\u001b[0;32m<ipython-input-22-402adeae5f25>\u001b[0m in \u001b[0;36m<cell line: 2>\u001b[0;34m()\u001b[0m\n\u001b[1;32m      1\u001b[0m \u001b[0;31m# Read both CSV files into pandas DataFrames\u001b[0m\u001b[0;34m\u001b[0m\u001b[0;34m\u001b[0m\u001b[0m\n\u001b[0;32m----> 2\u001b[0;31m \u001b[0mdf2\u001b[0m \u001b[0;34m=\u001b[0m \u001b[0mpd\u001b[0m\u001b[0;34m.\u001b[0m\u001b[0mread_csv\u001b[0m\u001b[0;34m(\u001b[0m\u001b[0;34m'/content/uber_data2.csv'\u001b[0m\u001b[0;34m)\u001b[0m\u001b[0;34m\u001b[0m\u001b[0;34m\u001b[0m\u001b[0m\n\u001b[0m\u001b[1;32m      3\u001b[0m \u001b[0mdf3\u001b[0m \u001b[0;34m=\u001b[0m \u001b[0mpd\u001b[0m\u001b[0;34m.\u001b[0m\u001b[0mread_csv\u001b[0m\u001b[0;34m(\u001b[0m\u001b[0;34m'/content/uber_data3.csv'\u001b[0m\u001b[0;34m)\u001b[0m\u001b[0;34m\u001b[0m\u001b[0;34m\u001b[0m\u001b[0m\n\u001b[1;32m      4\u001b[0m \u001b[0mdf4\u001b[0m \u001b[0;34m=\u001b[0m \u001b[0mpd\u001b[0m\u001b[0;34m.\u001b[0m\u001b[0mread_csv\u001b[0m\u001b[0;34m(\u001b[0m\u001b[0;34m'/content/uber_data4.csv'\u001b[0m\u001b[0;34m)\u001b[0m\u001b[0;34m\u001b[0m\u001b[0;34m\u001b[0m\u001b[0m\n\u001b[1;32m      5\u001b[0m \u001b[0mdf5\u001b[0m \u001b[0;34m=\u001b[0m \u001b[0mpd\u001b[0m\u001b[0;34m.\u001b[0m\u001b[0mread_csv\u001b[0m\u001b[0;34m(\u001b[0m\u001b[0;34m'/content/uber_data5.csv'\u001b[0m\u001b[0;34m)\u001b[0m\u001b[0;34m\u001b[0m\u001b[0;34m\u001b[0m\u001b[0m\n",
            "\u001b[0;32m/usr/local/lib/python3.10/dist-packages/pandas/io/parsers/readers.py\u001b[0m in \u001b[0;36mread_csv\u001b[0;34m(filepath_or_buffer, sep, delimiter, header, names, index_col, usecols, dtype, engine, converters, true_values, false_values, skipinitialspace, skiprows, skipfooter, nrows, na_values, keep_default_na, na_filter, verbose, skip_blank_lines, parse_dates, infer_datetime_format, keep_date_col, date_parser, date_format, dayfirst, cache_dates, iterator, chunksize, compression, thousands, decimal, lineterminator, quotechar, quoting, doublequote, escapechar, comment, encoding, encoding_errors, dialect, on_bad_lines, delim_whitespace, low_memory, memory_map, float_precision, storage_options, dtype_backend)\u001b[0m\n\u001b[1;32m   1024\u001b[0m     \u001b[0mkwds\u001b[0m\u001b[0;34m.\u001b[0m\u001b[0mupdate\u001b[0m\u001b[0;34m(\u001b[0m\u001b[0mkwds_defaults\u001b[0m\u001b[0;34m)\u001b[0m\u001b[0;34m\u001b[0m\u001b[0;34m\u001b[0m\u001b[0m\n\u001b[1;32m   1025\u001b[0m \u001b[0;34m\u001b[0m\u001b[0m\n\u001b[0;32m-> 1026\u001b[0;31m     \u001b[0;32mreturn\u001b[0m \u001b[0m_read\u001b[0m\u001b[0;34m(\u001b[0m\u001b[0mfilepath_or_buffer\u001b[0m\u001b[0;34m,\u001b[0m \u001b[0mkwds\u001b[0m\u001b[0;34m)\u001b[0m\u001b[0;34m\u001b[0m\u001b[0;34m\u001b[0m\u001b[0m\n\u001b[0m\u001b[1;32m   1027\u001b[0m \u001b[0;34m\u001b[0m\u001b[0m\n\u001b[1;32m   1028\u001b[0m \u001b[0;34m\u001b[0m\u001b[0m\n",
            "\u001b[0;32m/usr/local/lib/python3.10/dist-packages/pandas/io/parsers/readers.py\u001b[0m in \u001b[0;36m_read\u001b[0;34m(filepath_or_buffer, kwds)\u001b[0m\n\u001b[1;32m    618\u001b[0m \u001b[0;34m\u001b[0m\u001b[0m\n\u001b[1;32m    619\u001b[0m     \u001b[0;31m# Create the parser.\u001b[0m\u001b[0;34m\u001b[0m\u001b[0;34m\u001b[0m\u001b[0m\n\u001b[0;32m--> 620\u001b[0;31m     \u001b[0mparser\u001b[0m \u001b[0;34m=\u001b[0m \u001b[0mTextFileReader\u001b[0m\u001b[0;34m(\u001b[0m\u001b[0mfilepath_or_buffer\u001b[0m\u001b[0;34m,\u001b[0m \u001b[0;34m**\u001b[0m\u001b[0mkwds\u001b[0m\u001b[0;34m)\u001b[0m\u001b[0;34m\u001b[0m\u001b[0;34m\u001b[0m\u001b[0m\n\u001b[0m\u001b[1;32m    621\u001b[0m \u001b[0;34m\u001b[0m\u001b[0m\n\u001b[1;32m    622\u001b[0m     \u001b[0;32mif\u001b[0m \u001b[0mchunksize\u001b[0m \u001b[0;32mor\u001b[0m \u001b[0miterator\u001b[0m\u001b[0;34m:\u001b[0m\u001b[0;34m\u001b[0m\u001b[0;34m\u001b[0m\u001b[0m\n",
            "\u001b[0;32m/usr/local/lib/python3.10/dist-packages/pandas/io/parsers/readers.py\u001b[0m in \u001b[0;36m__init__\u001b[0;34m(self, f, engine, **kwds)\u001b[0m\n\u001b[1;32m   1618\u001b[0m \u001b[0;34m\u001b[0m\u001b[0m\n\u001b[1;32m   1619\u001b[0m         \u001b[0mself\u001b[0m\u001b[0;34m.\u001b[0m\u001b[0mhandles\u001b[0m\u001b[0;34m:\u001b[0m \u001b[0mIOHandles\u001b[0m \u001b[0;34m|\u001b[0m \u001b[0;32mNone\u001b[0m \u001b[0;34m=\u001b[0m \u001b[0;32mNone\u001b[0m\u001b[0;34m\u001b[0m\u001b[0;34m\u001b[0m\u001b[0m\n\u001b[0;32m-> 1620\u001b[0;31m         \u001b[0mself\u001b[0m\u001b[0;34m.\u001b[0m\u001b[0m_engine\u001b[0m \u001b[0;34m=\u001b[0m \u001b[0mself\u001b[0m\u001b[0;34m.\u001b[0m\u001b[0m_make_engine\u001b[0m\u001b[0;34m(\u001b[0m\u001b[0mf\u001b[0m\u001b[0;34m,\u001b[0m \u001b[0mself\u001b[0m\u001b[0;34m.\u001b[0m\u001b[0mengine\u001b[0m\u001b[0;34m)\u001b[0m\u001b[0;34m\u001b[0m\u001b[0;34m\u001b[0m\u001b[0m\n\u001b[0m\u001b[1;32m   1621\u001b[0m \u001b[0;34m\u001b[0m\u001b[0m\n\u001b[1;32m   1622\u001b[0m     \u001b[0;32mdef\u001b[0m \u001b[0mclose\u001b[0m\u001b[0;34m(\u001b[0m\u001b[0mself\u001b[0m\u001b[0;34m)\u001b[0m \u001b[0;34m->\u001b[0m \u001b[0;32mNone\u001b[0m\u001b[0;34m:\u001b[0m\u001b[0;34m\u001b[0m\u001b[0;34m\u001b[0m\u001b[0m\n",
            "\u001b[0;32m/usr/local/lib/python3.10/dist-packages/pandas/io/parsers/readers.py\u001b[0m in \u001b[0;36m_make_engine\u001b[0;34m(self, f, engine)\u001b[0m\n\u001b[1;32m   1878\u001b[0m                 \u001b[0;32mif\u001b[0m \u001b[0;34m\"b\"\u001b[0m \u001b[0;32mnot\u001b[0m \u001b[0;32min\u001b[0m \u001b[0mmode\u001b[0m\u001b[0;34m:\u001b[0m\u001b[0;34m\u001b[0m\u001b[0;34m\u001b[0m\u001b[0m\n\u001b[1;32m   1879\u001b[0m                     \u001b[0mmode\u001b[0m \u001b[0;34m+=\u001b[0m \u001b[0;34m\"b\"\u001b[0m\u001b[0;34m\u001b[0m\u001b[0;34m\u001b[0m\u001b[0m\n\u001b[0;32m-> 1880\u001b[0;31m             self.handles = get_handle(\n\u001b[0m\u001b[1;32m   1881\u001b[0m                 \u001b[0mf\u001b[0m\u001b[0;34m,\u001b[0m\u001b[0;34m\u001b[0m\u001b[0;34m\u001b[0m\u001b[0m\n\u001b[1;32m   1882\u001b[0m                 \u001b[0mmode\u001b[0m\u001b[0;34m,\u001b[0m\u001b[0;34m\u001b[0m\u001b[0;34m\u001b[0m\u001b[0m\n",
            "\u001b[0;32m/usr/local/lib/python3.10/dist-packages/pandas/io/common.py\u001b[0m in \u001b[0;36mget_handle\u001b[0;34m(path_or_buf, mode, encoding, compression, memory_map, is_text, errors, storage_options)\u001b[0m\n\u001b[1;32m    871\u001b[0m         \u001b[0;32mif\u001b[0m \u001b[0mioargs\u001b[0m\u001b[0;34m.\u001b[0m\u001b[0mencoding\u001b[0m \u001b[0;32mand\u001b[0m \u001b[0;34m\"b\"\u001b[0m \u001b[0;32mnot\u001b[0m \u001b[0;32min\u001b[0m \u001b[0mioargs\u001b[0m\u001b[0;34m.\u001b[0m\u001b[0mmode\u001b[0m\u001b[0;34m:\u001b[0m\u001b[0;34m\u001b[0m\u001b[0;34m\u001b[0m\u001b[0m\n\u001b[1;32m    872\u001b[0m             \u001b[0;31m# Encoding\u001b[0m\u001b[0;34m\u001b[0m\u001b[0;34m\u001b[0m\u001b[0m\n\u001b[0;32m--> 873\u001b[0;31m             handle = open(\n\u001b[0m\u001b[1;32m    874\u001b[0m                 \u001b[0mhandle\u001b[0m\u001b[0;34m,\u001b[0m\u001b[0;34m\u001b[0m\u001b[0;34m\u001b[0m\u001b[0m\n\u001b[1;32m    875\u001b[0m                 \u001b[0mioargs\u001b[0m\u001b[0;34m.\u001b[0m\u001b[0mmode\u001b[0m\u001b[0;34m,\u001b[0m\u001b[0;34m\u001b[0m\u001b[0;34m\u001b[0m\u001b[0m\n",
            "\u001b[0;31mFileNotFoundError\u001b[0m: [Errno 2] No such file or directory: '/content/uber_data2.csv'"
          ]
        }
      ]
    },
    {
      "cell_type": "code",
      "source": [
        "uber_df = uber_df.dropna()"
      ],
      "metadata": {
        "id": "t4HkW4grNJS3"
      },
      "execution_count": null,
      "outputs": []
    },
    {
      "cell_type": "code",
      "source": [
        "uber_df.info()"
      ],
      "metadata": {
        "id": "Dp-TPnYCVmWt"
      },
      "execution_count": null,
      "outputs": []
    },
    {
      "cell_type": "code",
      "source": [
        "# Randomly sample n rows from the dataframe\n",
        "n = 60000  # specify the number of rows to sample\n",
        "sample_uber_df = uber_df.sample(n)"
      ],
      "metadata": {
        "id": "woJIBaGoIcMP"
      },
      "execution_count": null,
      "outputs": []
    },
    {
      "cell_type": "code",
      "source": [
        "sample_uber_df.head()"
      ],
      "metadata": {
        "id": "Ja55hxVYIcSA"
      },
      "execution_count": null,
      "outputs": []
    },
    {
      "cell_type": "code",
      "source": [
        "sample_uber_df.to_csv('uber_data.csv', index=False)"
      ],
      "metadata": {
        "id": "A1HJqaN7NPQr"
      },
      "execution_count": null,
      "outputs": []
    }
  ]
}