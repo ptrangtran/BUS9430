{
  "nbformat": 4,
  "nbformat_minor": 0,
  "metadata": {
    "colab": {
      "provenance": []
    },
    "kernelspec": {
      "name": "python3",
      "display_name": "Python 3"
    },
    "language_info": {
      "name": "python"
    }
  },
  "cells": [
    {
      "cell_type": "code",
      "source": [
        "#! pip install pyarrow"
      ],
      "metadata": {
        "id": "QMtJ-6GwRiVq"
      },
      "execution_count": null,
      "outputs": []
    },
    {
      "cell_type": "code",
      "source": [
        "#! pip install requests"
      ],
      "metadata": {
        "id": "kMKAUPy-LjZC"
      },
      "execution_count": null,
      "outputs": []
    },
    {
      "cell_type": "code",
      "source": [
        "import pyarrow.parquet as pq\n",
        "import pandas as pd"
      ],
      "metadata": {
        "id": "wNOX0A0cRAWp"
      },
      "execution_count": null,
      "outputs": []
    },
    {
      "cell_type": "code",
      "source": [
        "taxi_zones = [4,12,13,45,43,48,50,68,79,87,88,90,125,100,107,113,114,140,137,141,142,143,144,148,158,161,162,163,\n",
        "              164,170,186,194,209,211,224,229,230,231,239,232,233,234,236,237,238,246,249,261]"
      ],
      "metadata": {
        "id": "dWH9d9HhC4do"
      },
      "execution_count": null,
      "outputs": []
    },
    {
      "cell_type": "markdown",
      "source": [
        "    \"https://d37ci6vzurychx.cloudfront.net/trip-data/yellow_tripdata_2024-01.parquet\"\n",
        "    \"https://d37ci6vzurychx.cloudfront.net/trip-data/yellow_tripdata_2024-02.parquet\"\n",
        "    \"https://d37ci6vzurychx.cloudfront.net/trip-data/yellow_tripdata_2024-03.parquet\"\n",
        "    \"https://d37ci6vzurychx.cloudfront.net/trip-data/yellow_tripdata_2024-04.parquet\"\n",
        "    \"https://d37ci6vzurychx.cloudfront.net/trip-data/yellow_tripdata_2024-05.parquet\"\n",
        "    \"https://d37ci6vzurychx.cloudfront.net/trip-data/yellow_tripdata_2024-06.parquet\"\n",
        "    \"https://d37ci6vzurychx.cloudfront.net/trip-data/yellow_tripdata_2024-07.parquet\"\n",
        "    "
      ],
      "metadata": {
        "id": "jY5_9tR3Q_p6"
      }
    },
    {
      "cell_type": "markdown",
      "source": [
        "  \"https://d37ci6vzurychx.cloudfront.net/trip-data/fhvhv_tripdata_2024-01.parquet\"\n",
        "  \"https://d37ci6vzurychx.cloudfront.net/trip-data/fhvhv_tripdata_2024-02.parquet\"\n",
        "  \"https://d37ci6vzurychx.cloudfront.net/trip-data/fhvhv_tripdata_2024-03.parquet\"\n",
        "  \"https://d37ci6vzurychx.cloudfront.net/trip-data/fhvhv_tripdata_2024-04.parquet\"\n",
        "  \"https://d37ci6vzurychx.cloudfront.net/trip-data/fhvhv_tripdata_2024-05.parquet\"\n",
        "  \"https://d37ci6vzurychx.cloudfront.net/trip-data/fhvhv_tripdata_2024-06.parquet\"\n",
        "  \"https://d37ci6vzurychx.cloudfront.net/trip-data/fhvhv_tripdata_2024-07.parquet\"\n"
      ],
      "metadata": {
        "id": "ouIutF55VcIB"
      }
    },
    {
      "cell_type": "code",
      "source": [
        "# URL to get the data\n",
        "url = \"https://d37ci6vzurychx.cloudfront.net/trip-data/yellow_tripdata_2024-02.parquet\"\n",
        "\n",
        "# Read the Parquet file from the URL\n",
        "df_raw = pd.read_parquet(url, engine='pyarrow')"
      ],
      "metadata": {
        "id": "t3AudM2mRfe7"
      },
      "execution_count": null,
      "outputs": []
    },
    {
      "cell_type": "code",
      "source": [
        "# Separate date and time for pickup and dropoff\n",
        "df_raw['pickup_date'] = df_raw['tpep_pickup_datetime'].dt.date\n",
        "df_raw['pickup_time'] = df_raw['tpep_pickup_datetime'].dt.time\n",
        "df_raw['dropoff_date'] = df_raw['tpep_dropoff_datetime'].dt.date\n",
        "df_raw['dropoff_time'] = df_raw['tpep_dropoff_datetime'].dt.time\n",
        "\n",
        "# Calculate trip time in seconds\n",
        "df_raw['trip_time_minutes'] = (df_raw['tpep_dropoff_datetime'] - df_raw['tpep_pickup_datetime']).dt.total_seconds() / 60"
      ],
      "metadata": {
        "collapsed": true,
        "id": "z7agEabfRTEF"
      },
      "execution_count": null,
      "outputs": []
    },
    {
      "cell_type": "code",
      "source": [
        "df_raw.info()"
      ],
      "metadata": {
        "id": "Vb2NyaKUl0Vt",
        "outputId": "07c289de-a57a-4387-b268-33e277438bf5",
        "colab": {
          "base_uri": "https://localhost:8080/"
        }
      },
      "execution_count": null,
      "outputs": [
        {
          "output_type": "stream",
          "name": "stdout",
          "text": [
            "<class 'pandas.core.frame.DataFrame'>\n",
            "RangeIndex: 3007526 entries, 0 to 3007525\n",
            "Data columns (total 24 columns):\n",
            " #   Column                 Dtype         \n",
            "---  ------                 -----         \n",
            " 0   VendorID               int32         \n",
            " 1   tpep_pickup_datetime   datetime64[us]\n",
            " 2   tpep_dropoff_datetime  datetime64[us]\n",
            " 3   passenger_count        float64       \n",
            " 4   trip_distance          float64       \n",
            " 5   RatecodeID             float64       \n",
            " 6   store_and_fwd_flag     object        \n",
            " 7   PULocationID           int32         \n",
            " 8   DOLocationID           int32         \n",
            " 9   payment_type           int64         \n",
            " 10  fare_amount            float64       \n",
            " 11  extra                  float64       \n",
            " 12  mta_tax                float64       \n",
            " 13  tip_amount             float64       \n",
            " 14  tolls_amount           float64       \n",
            " 15  improvement_surcharge  float64       \n",
            " 16  total_amount           float64       \n",
            " 17  congestion_surcharge   float64       \n",
            " 18  Airport_fee            float64       \n",
            " 19  pickup_date            object        \n",
            " 20  pickup_time            object        \n",
            " 21  dropoff_date           object        \n",
            " 22  dropoff_time           object        \n",
            " 23  trip_time_minutes      float64       \n",
            "dtypes: datetime64[us](2), float64(13), int32(3), int64(1), object(5)\n",
            "memory usage: 516.3+ MB\n"
          ]
        }
      ]
    },
    {
      "cell_type": "code",
      "source": [
        "# Define the custom filter function for Friday 4 PM to Sunday 8 PM\n",
        "def filter_by_time(row):\n",
        "    day = row['tpep_pickup_datetime'].dayofweek  # 0: Monday, 6: Sunday\n",
        "    hour = row['tpep_pickup_datetime'].hour\n",
        "\n",
        "    # Check for Friday after 4 PM\n",
        "    if day == 4 and hour >= 16:  # Friday 4 PM onwards\n",
        "        return True\n",
        "    # Check for all day Saturday\n",
        "    elif day == 5:  # All day Saturday\n",
        "        return True\n",
        "    # Check for Sunday until 8 PM\n",
        "    elif day == 6 and hour <= 20:  # Sunday until 8 PM\n",
        "        return True\n",
        "    else:\n",
        "        return False\n",
        "\n",
        "# Apply the filter to the DataFrame\n",
        "df_raw = df_raw[df_raw.apply(filter_by_time, axis=1)]"
      ],
      "metadata": {
        "id": "UU4YSNfvEIXn"
      },
      "execution_count": null,
      "outputs": []
    },
    {
      "cell_type": "code",
      "source": [
        "fees_amount = ['extra', 'mta_tax', 'tolls_amount', 'improvement_surcharge', 'congestion_surcharge', 'Airport_fee']\n",
        "df_raw['total_fees'] = df_raw[fees_amount].sum(axis=1)"
      ],
      "metadata": {
        "id": "CPKgZR1MRzMB"
      },
      "execution_count": null,
      "outputs": []
    },
    {
      "cell_type": "code",
      "source": [
        "selected_columns = ['pickup_date', 'pickup_time', 'dropoff_date', 'dropoff_time', 'PULocationID',\n",
        "                    'DOLocationID', 'trip_distance', 'trip_time_minutes', 'fare_amount',\n",
        "                    'total_fees', 'tip_amount', 'total_amount', 'payment_type', 'passenger_count']\n",
        "new_df = df_raw[selected_columns]"
      ],
      "metadata": {
        "id": "1bHA5q5hR1Wh"
      },
      "execution_count": null,
      "outputs": []
    },
    {
      "cell_type": "code",
      "source": [
        "payment_type_mapping = {\n",
        "    1: 'Credit card',\n",
        "    2: 'Cash',\n",
        "    3: 'No charge',\n",
        "    4: 'Dispute',\n",
        "    5: 'Unknown',\n",
        "    6: 'Voided trip'\n",
        "}\n",
        "\n",
        "new_df['payment_type'] = new_df['payment_type'].map(payment_type_mapping)"
      ],
      "metadata": {
        "id": "QuZosHhZR31A"
      },
      "execution_count": null,
      "outputs": []
    },
    {
      "cell_type": "code",
      "source": [
        "f_df = new_df[\n",
        "    new_df['PULocationID'].isin(taxi_zones) &\n",
        "    new_df['DOLocationID'].isin(taxi_zones)\n",
        "]"
      ],
      "metadata": {
        "id": "dla_Xtk2R9st"
      },
      "execution_count": null,
      "outputs": []
    },
    {
      "cell_type": "code",
      "source": [
        "f_df = f_df.reset_index()"
      ],
      "metadata": {
        "id": "GRaKdZhXR_10"
      },
      "execution_count": null,
      "outputs": []
    },
    {
      "cell_type": "code",
      "source": [
        "f_df= f_df.drop(columns=['index'])"
      ],
      "metadata": {
        "id": "iPY1j47gIHuI"
      },
      "execution_count": null,
      "outputs": []
    },
    {
      "cell_type": "code",
      "source": [
        "f_df.head()"
      ],
      "metadata": {
        "id": "hT8PRyxpSN97"
      },
      "execution_count": null,
      "outputs": []
    },
    {
      "cell_type": "code",
      "source": [
        "f_df.to_csv('ride_sharing2.csv', index=False)"
      ],
      "metadata": {
        "id": "hCNcKnrESCPa"
      },
      "execution_count": null,
      "outputs": []
    },
    {
      "cell_type": "code",
      "source": [],
      "metadata": {
        "id": "f27VW4XdNIpq"
      },
      "execution_count": null,
      "outputs": []
    },
    {
      "cell_type": "code",
      "source": [],
      "metadata": {
        "id": "89ON2Z75IcU8"
      },
      "execution_count": null,
      "outputs": []
    },
    {
      "cell_type": "code",
      "source": [
        "# Read both CSV files into pandas DataFrames\n",
        "df2 = pd.read_csv('/content/taxi_data2.csv')\n",
        "df3 = pd.read_csv('/content/taxi_data3.csv')\n",
        "df4 = pd.read_csv('/content/taxi_data4.csv')\n",
        "df5 = pd.read_csv('/content/taxi_data5.csv')\n",
        "df6 = pd.read_csv('/content/taxi_data6.csv')\n",
        "df7 = pd.read_csv('/content/taxi_data7.csv')\n",
        "\n",
        "# Append df2 to df1\n",
        "taxi_df = pd.concat([df2, df3, df4, df5, df6, df7], ignore_index=True)\n",
        "\n",
        "# Save the appended DataFrame to a new CSV file\n",
        "#taxi_df.to_csv('taxi_data.csv', index=False)"
      ],
      "metadata": {
        "colab": {
          "base_uri": "https://localhost:8080/"
        },
        "id": "K6vY82IMVmQS",
        "outputId": "87a2fe08-0bcd-4cf1-d388-d4f0eed438b1"
      },
      "execution_count": null,
      "outputs": [
        {
          "output_type": "stream",
          "name": "stderr",
          "text": [
            "<ipython-input-146-79c415f9dd33>:2: DtypeWarning: Columns (12) have mixed types. Specify dtype option on import or set low_memory=False.\n",
            "  df2 = pd.read_csv('/content/taxi_data2.csv')\n",
            "<ipython-input-146-79c415f9dd33>:3: DtypeWarning: Columns (12) have mixed types. Specify dtype option on import or set low_memory=False.\n",
            "  df3 = pd.read_csv('/content/taxi_data3.csv')\n",
            "<ipython-input-146-79c415f9dd33>:4: DtypeWarning: Columns (12) have mixed types. Specify dtype option on import or set low_memory=False.\n",
            "  df4 = pd.read_csv('/content/taxi_data4.csv')\n",
            "<ipython-input-146-79c415f9dd33>:5: DtypeWarning: Columns (12) have mixed types. Specify dtype option on import or set low_memory=False.\n",
            "  df5 = pd.read_csv('/content/taxi_data5.csv')\n",
            "<ipython-input-146-79c415f9dd33>:6: DtypeWarning: Columns (12) have mixed types. Specify dtype option on import or set low_memory=False.\n",
            "  df6 = pd.read_csv('/content/taxi_data6.csv')\n",
            "<ipython-input-146-79c415f9dd33>:7: DtypeWarning: Columns (12) have mixed types. Specify dtype option on import or set low_memory=False.\n",
            "  df7 = pd.read_csv('/content/taxi_data7.csv')\n"
          ]
        }
      ]
    },
    {
      "cell_type": "code",
      "source": [
        "taxi_df = taxi_df.dropna()"
      ],
      "metadata": {
        "id": "t4HkW4grNJS3"
      },
      "execution_count": null,
      "outputs": []
    },
    {
      "cell_type": "code",
      "source": [
        "taxi_df.info()"
      ],
      "metadata": {
        "colab": {
          "base_uri": "https://localhost:8080/"
        },
        "id": "Dp-TPnYCVmWt",
        "outputId": "3dce9671-379f-4e28-8313-6356d2871720"
      },
      "execution_count": null,
      "outputs": [
        {
          "output_type": "stream",
          "name": "stdout",
          "text": [
            "<class 'pandas.core.frame.DataFrame'>\n",
            "Index: 4301055 entries, 0 to 4820927\n",
            "Data columns (total 14 columns):\n",
            " #   Column             Dtype  \n",
            "---  ------             -----  \n",
            " 0   pickup_date        object \n",
            " 1   pickup_time        object \n",
            " 2   dropoff_date       object \n",
            " 3   dropoff_time       object \n",
            " 4   PULocationID       int64  \n",
            " 5   DOLocationID       int64  \n",
            " 6   trip_distance      float64\n",
            " 7   trip_time_minutes  float64\n",
            " 8   fare_amount        float64\n",
            " 9   total_fees         float64\n",
            " 10  tip_amount         float64\n",
            " 11  total_amount       float64\n",
            " 12  payment_type       object \n",
            " 13  passenger_count    float64\n",
            "dtypes: float64(7), int64(2), object(5)\n",
            "memory usage: 492.2+ MB\n"
          ]
        }
      ]
    },
    {
      "cell_type": "code",
      "source": [
        "# Randomly sample n rows from the dataframe\n",
        "n = 60000  # specify the number of rows to sample\n",
        "sample_taxi_df = taxi_df.sample(n)"
      ],
      "metadata": {
        "id": "woJIBaGoIcMP"
      },
      "execution_count": null,
      "outputs": []
    },
    {
      "cell_type": "code",
      "source": [
        "sample_taxi_df.head()"
      ],
      "metadata": {
        "colab": {
          "base_uri": "https://localhost:8080/",
          "height": 224
        },
        "id": "Ja55hxVYIcSA",
        "outputId": "6fd96a43-f015-41ee-a419-8af4c2ebddcb"
      },
      "execution_count": null,
      "outputs": [
        {
          "output_type": "execute_result",
          "data": {
            "text/plain": [
              "        pickup_date pickup_time dropoff_date dropoff_time  PULocationID  \\\n",
              "3442744  2024-06-01    22:58:38   2024-06-01     23:03:07           231   \n",
              "3239979  2024-05-31    19:05:31   2024-05-31     19:15:25            79   \n",
              "2986153  2024-05-18    15:59:20   2024-05-18     16:21:27           148   \n",
              "1513480  2024-03-30    20:33:04   2024-03-30     20:44:41           246   \n",
              "2573770  2024-05-04    01:14:19   2024-05-04     01:23:42           114   \n",
              "\n",
              "         DOLocationID  trip_distance  trip_time_minutes  fare_amount  \\\n",
              "3442744           249           0.00           4.483333          5.8   \n",
              "3239979             4           1.07           9.900000         10.7   \n",
              "2986153           170           1.91          22.116667         19.8   \n",
              "1513480            50           0.95          11.616667         11.4   \n",
              "2573770           107           1.51           9.383333         10.7   \n",
              "\n",
              "         total_fees  tip_amount  total_amount payment_type  passenger_count  \n",
              "3442744         5.0        3.24         14.04  Credit card              1.0  \n",
              "3239979         6.5        0.00         17.20  Credit card              2.0  \n",
              "2986153         4.0        0.00         23.80  Credit card              2.0  \n",
              "1513480         5.0        3.28         19.68  Credit card              1.0  \n",
              "2573770         5.0        3.00         18.70  Credit card              2.0  "
            ],
            "text/html": [
              "\n",
              "  <div id=\"df-8b17757b-fbe8-4cfe-9f73-bbafa02d7e41\" class=\"colab-df-container\">\n",
              "    <div>\n",
              "<style scoped>\n",
              "    .dataframe tbody tr th:only-of-type {\n",
              "        vertical-align: middle;\n",
              "    }\n",
              "\n",
              "    .dataframe tbody tr th {\n",
              "        vertical-align: top;\n",
              "    }\n",
              "\n",
              "    .dataframe thead th {\n",
              "        text-align: right;\n",
              "    }\n",
              "</style>\n",
              "<table border=\"1\" class=\"dataframe\">\n",
              "  <thead>\n",
              "    <tr style=\"text-align: right;\">\n",
              "      <th></th>\n",
              "      <th>pickup_date</th>\n",
              "      <th>pickup_time</th>\n",
              "      <th>dropoff_date</th>\n",
              "      <th>dropoff_time</th>\n",
              "      <th>PULocationID</th>\n",
              "      <th>DOLocationID</th>\n",
              "      <th>trip_distance</th>\n",
              "      <th>trip_time_minutes</th>\n",
              "      <th>fare_amount</th>\n",
              "      <th>total_fees</th>\n",
              "      <th>tip_amount</th>\n",
              "      <th>total_amount</th>\n",
              "      <th>payment_type</th>\n",
              "      <th>passenger_count</th>\n",
              "    </tr>\n",
              "  </thead>\n",
              "  <tbody>\n",
              "    <tr>\n",
              "      <th>3442744</th>\n",
              "      <td>2024-06-01</td>\n",
              "      <td>22:58:38</td>\n",
              "      <td>2024-06-01</td>\n",
              "      <td>23:03:07</td>\n",
              "      <td>231</td>\n",
              "      <td>249</td>\n",
              "      <td>0.00</td>\n",
              "      <td>4.483333</td>\n",
              "      <td>5.8</td>\n",
              "      <td>5.0</td>\n",
              "      <td>3.24</td>\n",
              "      <td>14.04</td>\n",
              "      <td>Credit card</td>\n",
              "      <td>1.0</td>\n",
              "    </tr>\n",
              "    <tr>\n",
              "      <th>3239979</th>\n",
              "      <td>2024-05-31</td>\n",
              "      <td>19:05:31</td>\n",
              "      <td>2024-05-31</td>\n",
              "      <td>19:15:25</td>\n",
              "      <td>79</td>\n",
              "      <td>4</td>\n",
              "      <td>1.07</td>\n",
              "      <td>9.900000</td>\n",
              "      <td>10.7</td>\n",
              "      <td>6.5</td>\n",
              "      <td>0.00</td>\n",
              "      <td>17.20</td>\n",
              "      <td>Credit card</td>\n",
              "      <td>2.0</td>\n",
              "    </tr>\n",
              "    <tr>\n",
              "      <th>2986153</th>\n",
              "      <td>2024-05-18</td>\n",
              "      <td>15:59:20</td>\n",
              "      <td>2024-05-18</td>\n",
              "      <td>16:21:27</td>\n",
              "      <td>148</td>\n",
              "      <td>170</td>\n",
              "      <td>1.91</td>\n",
              "      <td>22.116667</td>\n",
              "      <td>19.8</td>\n",
              "      <td>4.0</td>\n",
              "      <td>0.00</td>\n",
              "      <td>23.80</td>\n",
              "      <td>Credit card</td>\n",
              "      <td>2.0</td>\n",
              "    </tr>\n",
              "    <tr>\n",
              "      <th>1513480</th>\n",
              "      <td>2024-03-30</td>\n",
              "      <td>20:33:04</td>\n",
              "      <td>2024-03-30</td>\n",
              "      <td>20:44:41</td>\n",
              "      <td>246</td>\n",
              "      <td>50</td>\n",
              "      <td>0.95</td>\n",
              "      <td>11.616667</td>\n",
              "      <td>11.4</td>\n",
              "      <td>5.0</td>\n",
              "      <td>3.28</td>\n",
              "      <td>19.68</td>\n",
              "      <td>Credit card</td>\n",
              "      <td>1.0</td>\n",
              "    </tr>\n",
              "    <tr>\n",
              "      <th>2573770</th>\n",
              "      <td>2024-05-04</td>\n",
              "      <td>01:14:19</td>\n",
              "      <td>2024-05-04</td>\n",
              "      <td>01:23:42</td>\n",
              "      <td>114</td>\n",
              "      <td>107</td>\n",
              "      <td>1.51</td>\n",
              "      <td>9.383333</td>\n",
              "      <td>10.7</td>\n",
              "      <td>5.0</td>\n",
              "      <td>3.00</td>\n",
              "      <td>18.70</td>\n",
              "      <td>Credit card</td>\n",
              "      <td>2.0</td>\n",
              "    </tr>\n",
              "  </tbody>\n",
              "</table>\n",
              "</div>\n",
              "    <div class=\"colab-df-buttons\">\n",
              "\n",
              "  <div class=\"colab-df-container\">\n",
              "    <button class=\"colab-df-convert\" onclick=\"convertToInteractive('df-8b17757b-fbe8-4cfe-9f73-bbafa02d7e41')\"\n",
              "            title=\"Convert this dataframe to an interactive table.\"\n",
              "            style=\"display:none;\">\n",
              "\n",
              "  <svg xmlns=\"http://www.w3.org/2000/svg\" height=\"24px\" viewBox=\"0 -960 960 960\">\n",
              "    <path d=\"M120-120v-720h720v720H120Zm60-500h600v-160H180v160Zm220 220h160v-160H400v160Zm0 220h160v-160H400v160ZM180-400h160v-160H180v160Zm440 0h160v-160H620v160ZM180-180h160v-160H180v160Zm440 0h160v-160H620v160Z\"/>\n",
              "  </svg>\n",
              "    </button>\n",
              "\n",
              "  <style>\n",
              "    .colab-df-container {\n",
              "      display:flex;\n",
              "      gap: 12px;\n",
              "    }\n",
              "\n",
              "    .colab-df-convert {\n",
              "      background-color: #E8F0FE;\n",
              "      border: none;\n",
              "      border-radius: 50%;\n",
              "      cursor: pointer;\n",
              "      display: none;\n",
              "      fill: #1967D2;\n",
              "      height: 32px;\n",
              "      padding: 0 0 0 0;\n",
              "      width: 32px;\n",
              "    }\n",
              "\n",
              "    .colab-df-convert:hover {\n",
              "      background-color: #E2EBFA;\n",
              "      box-shadow: 0px 1px 2px rgba(60, 64, 67, 0.3), 0px 1px 3px 1px rgba(60, 64, 67, 0.15);\n",
              "      fill: #174EA6;\n",
              "    }\n",
              "\n",
              "    .colab-df-buttons div {\n",
              "      margin-bottom: 4px;\n",
              "    }\n",
              "\n",
              "    [theme=dark] .colab-df-convert {\n",
              "      background-color: #3B4455;\n",
              "      fill: #D2E3FC;\n",
              "    }\n",
              "\n",
              "    [theme=dark] .colab-df-convert:hover {\n",
              "      background-color: #434B5C;\n",
              "      box-shadow: 0px 1px 3px 1px rgba(0, 0, 0, 0.15);\n",
              "      filter: drop-shadow(0px 1px 2px rgba(0, 0, 0, 0.3));\n",
              "      fill: #FFFFFF;\n",
              "    }\n",
              "  </style>\n",
              "\n",
              "    <script>\n",
              "      const buttonEl =\n",
              "        document.querySelector('#df-8b17757b-fbe8-4cfe-9f73-bbafa02d7e41 button.colab-df-convert');\n",
              "      buttonEl.style.display =\n",
              "        google.colab.kernel.accessAllowed ? 'block' : 'none';\n",
              "\n",
              "      async function convertToInteractive(key) {\n",
              "        const element = document.querySelector('#df-8b17757b-fbe8-4cfe-9f73-bbafa02d7e41');\n",
              "        const dataTable =\n",
              "          await google.colab.kernel.invokeFunction('convertToInteractive',\n",
              "                                                    [key], {});\n",
              "        if (!dataTable) return;\n",
              "\n",
              "        const docLinkHtml = 'Like what you see? Visit the ' +\n",
              "          '<a target=\"_blank\" href=https://colab.research.google.com/notebooks/data_table.ipynb>data table notebook</a>'\n",
              "          + ' to learn more about interactive tables.';\n",
              "        element.innerHTML = '';\n",
              "        dataTable['output_type'] = 'display_data';\n",
              "        await google.colab.output.renderOutput(dataTable, element);\n",
              "        const docLink = document.createElement('div');\n",
              "        docLink.innerHTML = docLinkHtml;\n",
              "        element.appendChild(docLink);\n",
              "      }\n",
              "    </script>\n",
              "  </div>\n",
              "\n",
              "\n",
              "<div id=\"df-9f43d978-439a-4ec7-85aa-57f3ca07c0fe\">\n",
              "  <button class=\"colab-df-quickchart\" onclick=\"quickchart('df-9f43d978-439a-4ec7-85aa-57f3ca07c0fe')\"\n",
              "            title=\"Suggest charts\"\n",
              "            style=\"display:none;\">\n",
              "\n",
              "<svg xmlns=\"http://www.w3.org/2000/svg\" height=\"24px\"viewBox=\"0 0 24 24\"\n",
              "     width=\"24px\">\n",
              "    <g>\n",
              "        <path d=\"M19 3H5c-1.1 0-2 .9-2 2v14c0 1.1.9 2 2 2h14c1.1 0 2-.9 2-2V5c0-1.1-.9-2-2-2zM9 17H7v-7h2v7zm4 0h-2V7h2v10zm4 0h-2v-4h2v4z\"/>\n",
              "    </g>\n",
              "</svg>\n",
              "  </button>\n",
              "\n",
              "<style>\n",
              "  .colab-df-quickchart {\n",
              "      --bg-color: #E8F0FE;\n",
              "      --fill-color: #1967D2;\n",
              "      --hover-bg-color: #E2EBFA;\n",
              "      --hover-fill-color: #174EA6;\n",
              "      --disabled-fill-color: #AAA;\n",
              "      --disabled-bg-color: #DDD;\n",
              "  }\n",
              "\n",
              "  [theme=dark] .colab-df-quickchart {\n",
              "      --bg-color: #3B4455;\n",
              "      --fill-color: #D2E3FC;\n",
              "      --hover-bg-color: #434B5C;\n",
              "      --hover-fill-color: #FFFFFF;\n",
              "      --disabled-bg-color: #3B4455;\n",
              "      --disabled-fill-color: #666;\n",
              "  }\n",
              "\n",
              "  .colab-df-quickchart {\n",
              "    background-color: var(--bg-color);\n",
              "    border: none;\n",
              "    border-radius: 50%;\n",
              "    cursor: pointer;\n",
              "    display: none;\n",
              "    fill: var(--fill-color);\n",
              "    height: 32px;\n",
              "    padding: 0;\n",
              "    width: 32px;\n",
              "  }\n",
              "\n",
              "  .colab-df-quickchart:hover {\n",
              "    background-color: var(--hover-bg-color);\n",
              "    box-shadow: 0 1px 2px rgba(60, 64, 67, 0.3), 0 1px 3px 1px rgba(60, 64, 67, 0.15);\n",
              "    fill: var(--button-hover-fill-color);\n",
              "  }\n",
              "\n",
              "  .colab-df-quickchart-complete:disabled,\n",
              "  .colab-df-quickchart-complete:disabled:hover {\n",
              "    background-color: var(--disabled-bg-color);\n",
              "    fill: var(--disabled-fill-color);\n",
              "    box-shadow: none;\n",
              "  }\n",
              "\n",
              "  .colab-df-spinner {\n",
              "    border: 2px solid var(--fill-color);\n",
              "    border-color: transparent;\n",
              "    border-bottom-color: var(--fill-color);\n",
              "    animation:\n",
              "      spin 1s steps(1) infinite;\n",
              "  }\n",
              "\n",
              "  @keyframes spin {\n",
              "    0% {\n",
              "      border-color: transparent;\n",
              "      border-bottom-color: var(--fill-color);\n",
              "      border-left-color: var(--fill-color);\n",
              "    }\n",
              "    20% {\n",
              "      border-color: transparent;\n",
              "      border-left-color: var(--fill-color);\n",
              "      border-top-color: var(--fill-color);\n",
              "    }\n",
              "    30% {\n",
              "      border-color: transparent;\n",
              "      border-left-color: var(--fill-color);\n",
              "      border-top-color: var(--fill-color);\n",
              "      border-right-color: var(--fill-color);\n",
              "    }\n",
              "    40% {\n",
              "      border-color: transparent;\n",
              "      border-right-color: var(--fill-color);\n",
              "      border-top-color: var(--fill-color);\n",
              "    }\n",
              "    60% {\n",
              "      border-color: transparent;\n",
              "      border-right-color: var(--fill-color);\n",
              "    }\n",
              "    80% {\n",
              "      border-color: transparent;\n",
              "      border-right-color: var(--fill-color);\n",
              "      border-bottom-color: var(--fill-color);\n",
              "    }\n",
              "    90% {\n",
              "      border-color: transparent;\n",
              "      border-bottom-color: var(--fill-color);\n",
              "    }\n",
              "  }\n",
              "</style>\n",
              "\n",
              "  <script>\n",
              "    async function quickchart(key) {\n",
              "      const quickchartButtonEl =\n",
              "        document.querySelector('#' + key + ' button');\n",
              "      quickchartButtonEl.disabled = true;  // To prevent multiple clicks.\n",
              "      quickchartButtonEl.classList.add('colab-df-spinner');\n",
              "      try {\n",
              "        const charts = await google.colab.kernel.invokeFunction(\n",
              "            'suggestCharts', [key], {});\n",
              "      } catch (error) {\n",
              "        console.error('Error during call to suggestCharts:', error);\n",
              "      }\n",
              "      quickchartButtonEl.classList.remove('colab-df-spinner');\n",
              "      quickchartButtonEl.classList.add('colab-df-quickchart-complete');\n",
              "    }\n",
              "    (() => {\n",
              "      let quickchartButtonEl =\n",
              "        document.querySelector('#df-9f43d978-439a-4ec7-85aa-57f3ca07c0fe button');\n",
              "      quickchartButtonEl.style.display =\n",
              "        google.colab.kernel.accessAllowed ? 'block' : 'none';\n",
              "    })();\n",
              "  </script>\n",
              "</div>\n",
              "\n",
              "    </div>\n",
              "  </div>\n"
            ],
            "application/vnd.google.colaboratory.intrinsic+json": {
              "type": "dataframe",
              "variable_name": "sample_taxi_df",
              "repr_error": "0"
            }
          },
          "metadata": {},
          "execution_count": 155
        }
      ]
    },
    {
      "cell_type": "code",
      "source": [
        "sample_taxi_df.to_csv('taxi_data.csv', index=False)"
      ],
      "metadata": {
        "id": "A1HJqaN7NPQr"
      },
      "execution_count": null,
      "outputs": []
    }
  ]
}